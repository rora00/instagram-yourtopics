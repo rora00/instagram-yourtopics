{
 "cells": [
  {
   "cell_type": "code",
   "execution_count": null,
   "metadata": {},
   "outputs": [],
   "source": [
    "import warnings\n",
    "warnings.filterwarnings('ignore')"
   ]
  },
  {
   "cell_type": "code",
   "execution_count": null,
   "metadata": {},
   "outputs": [],
   "source": [
    "from helpers.extract import extract_yourtopics\n",
    "import pandas as pd\n",
    "import numpy as np\n",
    "import matplotlib.pyplot as plt\n",
    "from mpl_toolkits.mplot3d import Axes3D\n",
    "import seaborn as sns\n",
    "import random\n",
    "from sklearn.feature_extraction.text import TfidfVectorizer\n",
    "from sklearn.cluster import KMeans\n",
    "from sklearn.decomposition import PCA"
   ]
  },
  {
   "cell_type": "code",
   "execution_count": null,
   "metadata": {},
   "outputs": [],
   "source": [
    "# Update file path to the location of your_topics.html\n",
    "fpath = \"/Users/neharavi/Downloads/instagram-rohit_ravi_/your_topics/your_topics.html\"\n",
    "yourtopics = extract_yourtopics(fpath)"
   ]
  },
  {
   "cell_type": "code",
   "execution_count": null,
   "metadata": {},
   "outputs": [],
   "source": [
    "# Randomly samples 5 topics\n",
    "random.sample(yourtopics, 5)"
   ]
  },
  {
   "cell_type": "code",
   "execution_count": null,
   "metadata": {},
   "outputs": [],
   "source": [
    "# Export your topics to csv\n",
    "np.savetxt(\"yourtopics.csv\", sorted(yourtopics), delimiter=\",\", fmt='%s')"
   ]
  },
  {
   "cell_type": "code",
   "execution_count": null,
   "metadata": {},
   "outputs": [],
   "source": [
    "np.random.seed(333)\n",
    "\n",
    "# Convert the topic list to a numpy array\n",
    "topic_array = np.array(yourtopics)\n",
    "\n",
    "# Define the number of clusters you want to create\n",
    "num_clusters = 1\n",
    "\n",
    "# Define the text vectorizer (using TF-IDF)\n",
    "vectorizer = TfidfVectorizer(analyzer='word', stop_words='english', ngram_range=(1, 2))\n",
    "X = vectorizer.fit_transform(topic_array)\n",
    "\n",
    "# Apply K-means clustering\n",
    "kmeans = KMeans(n_clusters=num_clusters, random_state=42)\n",
    "kmeans.fit(X)\n",
    "\n",
    "# Assign cluster labels to each topic\n",
    "topic_clusters = kmeans.labels_\n",
    "\n",
    "# Define clusters to exclude from the visualization\n",
    "clusters_to_exclude = []\n",
    "\n",
    "# Perform PCA to reduce dimensionality to 3D for visualization\n",
    "pca = PCA(n_components=3)\n",
    "X_pca = pca.fit_transform(X.toarray())\n",
    "\n",
    "# Filter out data points and topic labels of the specified clusters\n",
    "filtered_X_pca = X_pca[~np.isin(topic_clusters, clusters_to_exclude)]\n",
    "filtered_topic_labels = topic_array[~np.isin(topic_clusters, clusters_to_exclude)]\n",
    "\n",
    "# Create a 3D scatter plot of the clustered topics\n",
    "fig = plt.figure(figsize=(10, 8))\n",
    "ax = fig.add_subplot(111, projection='3d')\n",
    "\n",
    "for i, label in enumerate(np.unique(topic_clusters)):\n",
    "    if label in clusters_to_exclude:\n",
    "        continue\n",
    "\n",
    "    mask = topic_clusters == label\n",
    "    ax.scatter(filtered_X_pca[mask, 0], filtered_X_pca[mask, 1], filtered_X_pca[mask, 2], s=80, alpha=0.8,\n",
    "               label=f'Cluster {label}')\n",
    "    \n",
    "\n",
    "ax.set_title(f\"PCA Clustered Topics Visualization (Excluding Cluster {clusters_to_exclude})\")\n",
    "ax.set_xlabel(\"PCA Component 1\")\n",
    "ax.set_ylabel(\"PCA Component 2\")\n",
    "ax.set_zlabel(\"PCA Component 3\")\n",
    "ax.legend()\n",
    "\n",
    "plt.show()\n"
   ]
  },
  {
   "cell_type": "code",
   "execution_count": null,
   "metadata": {},
   "outputs": [],
   "source": [
    "# Define the number of clusters you want to create\n",
    "num_clusters = 10\n",
    "\n",
    "# Apply K-means clustering\n",
    "kmeans = KMeans(n_clusters=num_clusters, random_state=42)\n",
    "kmeans.fit(X)\n",
    "\n",
    "# Assign cluster labels to each topic\n",
    "topic_clusters = kmeans.labels_"
   ]
  },
  {
   "cell_type": "code",
   "execution_count": null,
   "metadata": {},
   "outputs": [],
   "source": [
    "print(f\"{X.shape[0]} topics from the data download was converted to {X.shape[1]} tokens.\")"
   ]
  },
  {
   "cell_type": "code",
   "execution_count": null,
   "metadata": {},
   "outputs": [],
   "source": [
    "clusters_to_exclude = [0, 1, 2, 3, 4, 6, 9]\n",
    "\n",
    "# Perform PCA to reduce dimensionality to 2D for visualization\n",
    "pca = PCA(n_components=3)\n",
    "X_pca = pca.fit_transform(X.toarray())\n",
    "\n",
    "# Filter out data points and topic labels of the first cluster\n",
    "filtered_X_pca = X_pca[~np.isin(topic_clusters, clusters_to_exclude)]\n",
    "filtered_topic_labels = topic_array[~np.isin(topic_clusters, clusters_to_exclude)]\n",
    "\n",
    "# Create a scatter plot of the clustered topics with log values (excluding the first cluster)\n",
    "plt.figure(figsize=(15, 15))\n",
    "sns.scatterplot(filtered_X_pca[:, 0], filtered_X_pca[:, 1], hue=topic_clusters[~np.isin(topic_clusters, clusters_to_exclude)],\n",
    "                palette='Set1', s=80, alpha=0.8)\n",
    "plt.title(f\"PCA Clustered Topics Visualization (Excluding Cluster {clusters_to_exclude})\")\n",
    "plt.xlabel(\"PCA Component 1\")\n",
    "plt.ylabel(\"PCA Component 2\")\n",
    "plt.yscale(\"symlog\")\n",
    "plt.xscale(\"symlog\")\n",
    "\n",
    "# Annotate each point with the topic label\n",
    "for i, topic in enumerate(filtered_topic_labels):\n",
    "    plt.annotate(topic, (filtered_X_pca[i, 0], filtered_X_pca[i, 1]),\n",
    "                 textcoords=\"offset points\", xytext=(0, 5),\n",
    "                 ha='center', fontsize=8, color='black')\n",
    "    \n",
    "plt.legend(title=\"Cluster\", loc=\"upper right\")\n",
    "plt.show()"
   ]
  },
  {
   "cell_type": "code",
   "execution_count": null,
   "metadata": {},
   "outputs": [],
   "source": [
    "# Print the topics and their corresponding clusters\n",
    "for cluster_num in range(num_clusters):\n",
    "    if cluster_num in clusters_to_exclude:\n",
    "        continue\n",
    "    cluster_topics = topic_array[topic_clusters == cluster_num]\n",
    "    print(f\"Cluster {cluster_num + 1}:\")\n",
    "    for topic in cluster_topics:\n",
    "        print(topic)\n",
    "    print()"
   ]
  },
  {
   "cell_type": "code",
   "execution_count": null,
   "metadata": {},
   "outputs": [],
   "source": []
  }
 ],
 "metadata": {
  "kernelspec": {
   "display_name": "Python 3",
   "language": "python",
   "name": "python3"
  },
  "language_info": {
   "codemirror_mode": {
    "name": "ipython",
    "version": 3
   },
   "file_extension": ".py",
   "mimetype": "text/x-python",
   "name": "python",
   "nbconvert_exporter": "python",
   "pygments_lexer": "ipython3",
   "version": "3.8.3"
  }
 },
 "nbformat": 4,
 "nbformat_minor": 2
}
